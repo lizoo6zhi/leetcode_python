{
 "cells": [
  {
   "cell_type": "markdown",
   "metadata": {},
   "source": [
    "# 下面为典型错误示例，没有考虑越界问题"
   ]
  },
  {
   "cell_type": "code",
   "execution_count": 3,
   "metadata": {},
   "outputs": [],
   "source": [
    "class ListNode():\n",
    "    def __init__(self, x):\n",
    "        self.val = x\n",
    "        self.next = None\n",
    "        \n",
    "class Solution:\n",
    "    def addTwoNumbers(self, l1: ListNode, l2: ListNode) -> ListNode:\n",
    "        def list_to_number(li):\n",
    "            current = li\n",
    "            number = 0\n",
    "            while current:\n",
    "                number = number * 10 + current.val\n",
    "                current = current.next\n",
    "            return number\n",
    "        \n",
    "        def reverser_number(number):\n",
    "            div = number\n",
    "            mod = 0\n",
    "            sum = 0\n",
    "            while div:\n",
    "                mod = div % 10\n",
    "                div = div // 10\n",
    "                sum = sum * 10 + mod\n",
    "            return sum\n",
    "        \n",
    "        def number_to_list(number):\n",
    "            head = ListNode(number % 10)\n",
    "            div = number // 10\n",
    "            current = head\n",
    "            while div:\n",
    "                mod = div % 10\n",
    "                div = div // 10\n",
    "                current.next = ListNode(mod)\n",
    "                current = current.next\n",
    "            return head\n",
    "        \n",
    "        rever_l1 = reverser_number(list_to_number(l1))\n",
    "        rever_l2 = reverser_number(list_to_number(l2))\n",
    "        return number_to_list(rever_l1+rever_l2)"
   ]
  },
  {
   "cell_type": "markdown",
   "metadata": {},
   "source": [
    "# 正确解答"
   ]
  },
  {
   "cell_type": "code",
   "execution_count": null,
   "metadata": {},
   "outputs": [],
   "source": []
  }
 ],
 "metadata": {
  "kernelspec": {
   "display_name": "Python 3",
   "language": "python",
   "name": "python3"
  },
  "language_info": {
   "codemirror_mode": {
    "name": "ipython",
    "version": 3
   },
   "file_extension": ".py",
   "mimetype": "text/x-python",
   "name": "python",
   "nbconvert_exporter": "python",
   "pygments_lexer": "ipython3",
   "version": "3.6.7"
  },
  "toc": {
   "base_numbering": 1,
   "nav_menu": {},
   "number_sections": true,
   "sideBar": true,
   "skip_h1_title": false,
   "title_cell": "Table of Contents",
   "title_sidebar": "Contents",
   "toc_cell": false,
   "toc_position": {},
   "toc_section_display": true,
   "toc_window_display": false
  }
 },
 "nbformat": 4,
 "nbformat_minor": 2
}
