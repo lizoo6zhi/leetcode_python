{
 "cells": [
  {
   "cell_type": "code",
   "execution_count": 2,
   "metadata": {},
   "outputs": [],
   "source": [
    "class Solution:\n",
    "    def nextPermutation(self, nums: List[int]) -> None:\n",
    "        \"\"\"\n",
    "        Do not return anything, modify nums in-place instead.\n",
    "        nums: List[int]\n",
    "        retrun: None\n",
    "        \"\"\"\n",
    "        size = len(nums)\n",
    "        for x in range(size - 1, -1, -1):\n",
    "            if nums[x - 1] < nums[x]:\n",
    "                break\n",
    "        if x > 0:\n",
    "            for y in range(size - 1, -1, -1):\n",
    "                if nums[y] > nums[x - 1]:\n",
    "                    nums[x - 1], nums[y] = nums[y], nums[x - 1]\n",
    "                    break\n",
    "        for z in range((size - x) // 2):\n",
    "            nums[x + z], nums[size - z - 1] = nums[size - z - 1], nums[x + z]"
   ]
  }
 ],
 "metadata": {
  "kernelspec": {
   "display_name": "Python 3",
   "language": "python",
   "name": "python3"
  },
  "language_info": {
   "codemirror_mode": {
    "name": "ipython",
    "version": 3
   },
   "file_extension": ".py",
   "mimetype": "text/x-python",
   "name": "python",
   "nbconvert_exporter": "python",
   "pygments_lexer": "ipython3",
   "version": "3.6.7"
  },
  "toc": {
   "base_numbering": 1,
   "nav_menu": {},
   "number_sections": true,
   "sideBar": true,
   "skip_h1_title": false,
   "title_cell": "Table of Contents",
   "title_sidebar": "Contents",
   "toc_cell": false,
   "toc_position": {},
   "toc_section_display": true,
   "toc_window_display": false
  }
 },
 "nbformat": 4,
 "nbformat_minor": 2
}
