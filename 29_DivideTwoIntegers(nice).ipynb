{
 "cells": [
  {
   "cell_type": "code",
   "execution_count": 1,
   "metadata": {},
   "outputs": [],
   "source": [
    "class Solution:\n",
    "    def divide(self, dividend: int, divisor: int) -> int:\n",
    "        '''\n",
    "        dividend: int\n",
    "        divisor: int\n",
    "        retrun: int\n",
    "        '''\n",
    "        # 确定符号\n",
    "        if ((dividend <= 0) and  (divisor > 0)) or ((dividend >= 0) and (divisor < 0)):\n",
    "            sign = -1\n",
    "        else:\n",
    "            sign = 1\n",
    "            \n",
    "        up,down = abs(dividend),abs(divisor)\n",
    "        if down > up:\n",
    "            return 0\n",
    "        \n",
    "        sum,res,count = 0,0,0\n",
    "        while up >= down:\n",
    "            sum = down\n",
    "            count = 1\n",
    "            while sum + sum <= up:\n",
    "                sum = sum + sum\n",
    "                count += count\n",
    "            up -= sum\n",
    "            res += count\n",
    "        if sign == -1:    \n",
    "            res = 0 - res\n",
    "        if res >=pow(2,31)-1 and sign ==1:return pow(2,31) -1\n",
    "        if res >=pow(2,31) and sign == -1:return -pow(2,31)\n",
    "        \n",
    "        return res"
   ]
  }
 ],
 "metadata": {
  "kernelspec": {
   "display_name": "Python 3",
   "language": "python",
   "name": "python3"
  },
  "language_info": {
   "codemirror_mode": {
    "name": "ipython",
    "version": 3
   },
   "file_extension": ".py",
   "mimetype": "text/x-python",
   "name": "python",
   "nbconvert_exporter": "python",
   "pygments_lexer": "ipython3",
   "version": "3.6.7"
  },
  "toc": {
   "base_numbering": 1,
   "nav_menu": {},
   "number_sections": true,
   "sideBar": true,
   "skip_h1_title": false,
   "title_cell": "Table of Contents",
   "title_sidebar": "Contents",
   "toc_cell": false,
   "toc_position": {},
   "toc_section_display": true,
   "toc_window_display": false
  }
 },
 "nbformat": 4,
 "nbformat_minor": 2
}
