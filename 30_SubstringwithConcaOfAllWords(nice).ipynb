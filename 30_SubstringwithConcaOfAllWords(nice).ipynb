{
 "cells": [
  {
   "cell_type": "markdown",
   "metadata": {},
   "source": [
    "# 以下方法主要是为了实现数组的排列组合，效率低，Time Limit Exceeded"
   ]
  },
  {
   "cell_type": "code",
   "execution_count": null,
   "metadata": {},
   "outputs": [],
   "source": [
    "class Solution:\n",
    "    def findSubstring(self, s: str, words: List[str]) -> List[int]:\n",
    "        self.words_string = []\n",
    "        self.combine(words,0,len(words))\n",
    "        \n",
    "        result = []\n",
    "        if len(words) == 0 or len(s) == 0:\n",
    "            return result\n",
    "        \n",
    "        word_len = len(words[0])\n",
    "        words_len = word_len * len(words)\n",
    "        \n",
    "        if words_len > len(s):\n",
    "            return result\n",
    "        \n",
    "        for i in range(len(s) - words_len + 1):\n",
    "            if s[i:i+words_len] in self.words_string:\n",
    "                result.append(i)\n",
    "        return result\n",
    "        \n",
    "    def combine(self,words,start,length):\n",
    "        if start == length -1:\n",
    "            self.words_string.append(''.join(words))\n",
    "        for i in range(start,length):\n",
    "            temp = words[start]\n",
    "            words[start] = words[i]\n",
    "            words[i] = temp\n",
    "            self.combine(words,start+1,length)\n",
    "            temp = words[start]\n",
    "            words[start] = words[i]\n",
    "            words[i] = temp"
   ]
  },
  {
   "cell_type": "markdown",
   "metadata": {},
   "source": [
    "# 方法二"
   ]
  },
  {
   "cell_type": "code",
   "execution_count": null,
   "metadata": {},
   "outputs": [],
   "source": [
    "import collections\n",
    "class Solution:\n",
    "    def findSubstring(self, s: str, words: List[str]) -> List[int]:\n",
    "        \"\"\"\n",
    "        1. words中存在重复word\n",
    "        2. 比较s中的word数目与对应words数目\n",
    "        \"\"\"\n",
    "        if (not s) or (not words):\n",
    "            return []\n",
    "        word_len = len(words[0])\n",
    "        words_len = word_len * (len(words) - 1)\n",
    "        if words_len > len(s):\n",
    "            return []\n",
    "        \n",
    "        word_cnt = collections.Counter(words)\n",
    "        result = []\n",
    "        for i in range(word_len):\n",
    "            find_cnt = collections.Counter()\n",
    "            start = i\n",
    "            for j in range(i,len(s) - word_len+1,word_len):\n",
    "                word = s[j:j+word_len]\n",
    "                if word in word_cnt:\n",
    "                    find_cnt[word] += 1\n",
    "                    while find_cnt[word] > word_cnt[word]:\n",
    "                        find_cnt[s[start:start+word_len]] -= 1\n",
    "                        start += word_len\n",
    "                else:\n",
    "                    find_cnt.clear()\n",
    "                    start = j+word_len\n",
    "                    \n",
    "                if start + words_len == j:\n",
    "                    result.append(start)\n",
    "        return result"
   ]
  }
 ],
 "metadata": {
  "kernelspec": {
   "display_name": "Python 3",
   "language": "python",
   "name": "python3"
  },
  "language_info": {
   "codemirror_mode": {
    "name": "ipython",
    "version": 3
   },
   "file_extension": ".py",
   "mimetype": "text/x-python",
   "name": "python",
   "nbconvert_exporter": "python",
   "pygments_lexer": "ipython3",
   "version": "3.6.7"
  },
  "toc": {
   "base_numbering": 1,
   "nav_menu": {},
   "number_sections": true,
   "sideBar": true,
   "skip_h1_title": false,
   "title_cell": "Table of Contents",
   "title_sidebar": "Contents",
   "toc_cell": false,
   "toc_position": {},
   "toc_section_display": true,
   "toc_window_display": false
  }
 },
 "nbformat": 4,
 "nbformat_minor": 2
}
