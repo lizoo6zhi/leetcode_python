{
 "cells": [
  {
   "cell_type": "code",
   "execution_count": 3,
   "metadata": {},
   "outputs": [],
   "source": [
    "class Solution:\n",
    "    def searchRange(self, nums, target):\n",
    "        '''\n",
    "        nums: List[int]\n",
    "        target: int\n",
    "        return: List[int]\n",
    "        '''\n",
    "        # 一办法，先找第一个相等的，然后分别向两边找\n",
    "        left = 0\n",
    "        right = len(nums) - 1\n",
    "        \n",
    "        flag = -1\n",
    "        while left <= right:\n",
    "            mid = (right + left) // 2\n",
    "            if nums[mid] == target:\n",
    "                flag = mid\n",
    "                break\n",
    "            elif target > nums[mid]:\n",
    "                left = mid + 1\n",
    "            else:\n",
    "                right = mid - 1\n",
    "        if -1 == flag:\n",
    "            return [-1,-1]\n",
    "        left = right = flag\n",
    "        leftequal = rightequal = True\n",
    "        while leftequal or rightequal:\n",
    "            if leftequal:\n",
    "                if left >= 0 and nums[left] == target:\n",
    "                    left -= 1\n",
    "                else:\n",
    "                    leftequal = False\n",
    "                    left += 1\n",
    "            if rightequal:\n",
    "                if right < len(nums) and nums[right] == target:\n",
    "                    right += 1\n",
    "                else:\n",
    "                    rightequal = False  \n",
    "                    right -= 1\n",
    "        return [left,right]"
   ]
  }
 ],
 "metadata": {
  "kernelspec": {
   "display_name": "Python 3",
   "language": "python",
   "name": "python3"
  },
  "language_info": {
   "codemirror_mode": {
    "name": "ipython",
    "version": 3
   },
   "file_extension": ".py",
   "mimetype": "text/x-python",
   "name": "python",
   "nbconvert_exporter": "python",
   "pygments_lexer": "ipython3",
   "version": "3.6.7"
  },
  "toc": {
   "base_numbering": 1,
   "nav_menu": {},
   "number_sections": true,
   "sideBar": true,
   "skip_h1_title": false,
   "title_cell": "Table of Contents",
   "title_sidebar": "Contents",
   "toc_cell": false,
   "toc_position": {},
   "toc_section_display": true,
   "toc_window_display": false
  }
 },
 "nbformat": 4,
 "nbformat_minor": 2
}
