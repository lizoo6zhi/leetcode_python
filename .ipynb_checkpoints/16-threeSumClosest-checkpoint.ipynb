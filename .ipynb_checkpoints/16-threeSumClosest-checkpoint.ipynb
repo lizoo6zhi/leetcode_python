{
 "cells": [
  {
   "cell_type": "code",
   "execution_count": 1,
   "metadata": {},
   "outputs": [],
   "source": [
    "class Solution:\n",
    "    def threeSumClosest(self, nums, target: int) -> int:\n",
    "        '''\n",
    "        nums: List[int]\n",
    "        target: int\n",
    "        retrun: int\n",
    "        '''\n",
    "        nums.sort()\n",
    "        minsub = 999999\n",
    "        for i in range(len(nums)):\n",
    "            left = i + 1\n",
    "            right = len(nums) - 1\n",
    "        \n",
    "            while left < right:\n",
    "                add = nums[i] + nums[left] + nums[right]\n",
    "                sub = abs(target - add)\n",
    "                if sub < minsub:\n",
    "                    minsub = sub\n",
    "                    result = add\n",
    "                    \n",
    "                if add > target:\n",
    "                    right -= 1\n",
    "                elif add < target:\n",
    "                    left += 1\n",
    "                else:\n",
    "                    return target\n",
    "                \n",
    "        return result"
   ]
  }
 ],
 "metadata": {
  "kernelspec": {
   "display_name": "Python 3",
   "language": "python",
   "name": "python3"
  },
  "language_info": {
   "codemirror_mode": {
    "name": "ipython",
    "version": 3
   },
   "file_extension": ".py",
   "mimetype": "text/x-python",
   "name": "python",
   "nbconvert_exporter": "python",
   "pygments_lexer": "ipython3",
   "version": "3.6.7"
  },
  "toc": {
   "base_numbering": 1,
   "nav_menu": {},
   "number_sections": true,
   "sideBar": true,
   "skip_h1_title": false,
   "title_cell": "Table of Contents",
   "title_sidebar": "Contents",
   "toc_cell": false,
   "toc_position": {},
   "toc_section_display": true,
   "toc_window_display": false
  }
 },
 "nbformat": 4,
 "nbformat_minor": 2
}
