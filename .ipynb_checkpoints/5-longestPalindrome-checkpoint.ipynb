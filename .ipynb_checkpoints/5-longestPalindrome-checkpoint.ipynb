{
 "cells": [
  {
   "cell_type": "code",
   "execution_count": 27,
   "metadata": {},
   "outputs": [],
   "source": [
    "class Solution:\n",
    "    def longestPalindrome(self, s: str) -> str:\n",
    "        start = 0\n",
    "        maxlen = 0\n",
    "        l = len(s)\n",
    "        for i in range(l):\n",
    "            j = i\n",
    "            while j != l:\n",
    "                if s[i:j] == s[j-l:i-l:-1]:\n",
    "                    if j - i + 1 > maxlen:\n",
    "                        start = i\n",
    "                        maxlen = j-i+1\n",
    "                j += 1\n",
    "        return s[start:start+maxlen]"
   ]
  }
 ],
 "metadata": {
  "kernelspec": {
   "display_name": "Python 3",
   "language": "python",
   "name": "python3"
  },
  "language_info": {
   "codemirror_mode": {
    "name": "ipython",
    "version": 3
   },
   "file_extension": ".py",
   "mimetype": "text/x-python",
   "name": "python",
   "nbconvert_exporter": "python",
   "pygments_lexer": "ipython3",
   "version": "3.6.7"
  },
  "toc": {
   "base_numbering": 1,
   "nav_menu": {},
   "number_sections": true,
   "sideBar": true,
   "skip_h1_title": false,
   "title_cell": "Table of Contents",
   "title_sidebar": "Contents",
   "toc_cell": false,
   "toc_position": {},
   "toc_section_display": true,
   "toc_window_display": false
  }
 },
 "nbformat": 4,
 "nbformat_minor": 2
}
