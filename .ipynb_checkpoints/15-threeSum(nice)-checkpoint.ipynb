{
 "cells": [
  {
   "cell_type": "code",
   "execution_count": 14,
   "metadata": {},
   "outputs": [],
   "source": [
    "class Solution:\n",
    "    def threeSum(self, nums):\n",
    "        '''\n",
    "        type nums: List[int]\n",
    "        rtype List[List[int]]\n",
    "        '''\n",
    "        if len(nums) < 3:\n",
    "            return []\n",
    "        \n",
    "        nums.sort()   # 注意排序的作用\n",
    "        result = set()\n",
    "        for i,v in enumerate(nums[:-2]):\n",
    "            if i >= 1 and v == nums[i-1]:\n",
    "                continue\n",
    "            temp = {}                 # 使用dict提高查找效率\n",
    "            for j in nums[i+1:]:\n",
    "                if j not in temp:\n",
    "                    temp[-v - j] = 1\n",
    "                else:\n",
    "                    result.add((v,-v-j,j))\n",
    "        return map(list,result)"
   ]
  }
 ],
 "metadata": {
  "kernelspec": {
   "display_name": "Python 3",
   "language": "python",
   "name": "python3"
  },
  "language_info": {
   "codemirror_mode": {
    "name": "ipython",
    "version": 3
   },
   "file_extension": ".py",
   "mimetype": "text/x-python",
   "name": "python",
   "nbconvert_exporter": "python",
   "pygments_lexer": "ipython3",
   "version": "3.6.7"
  },
  "toc": {
   "base_numbering": 1,
   "nav_menu": {},
   "number_sections": true,
   "sideBar": true,
   "skip_h1_title": false,
   "title_cell": "Table of Contents",
   "title_sidebar": "Contents",
   "toc_cell": false,
   "toc_position": {},
   "toc_section_display": true,
   "toc_window_display": false
  }
 },
 "nbformat": 4,
 "nbformat_minor": 2
}
