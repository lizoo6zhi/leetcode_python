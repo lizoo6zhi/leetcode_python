{
 "cells": [
  {
   "cell_type": "code",
   "execution_count": 9,
   "metadata": {},
   "outputs": [],
   "source": [
    "class Solution:\n",
    "    def longestValidParentheses(self, s: str) -> int:\n",
    "        result=0\n",
    "        stack=[]\n",
    "        flag=-1\n",
    "        for i in range(len(s)):\n",
    "            if s[i] == '(':\n",
    "                if flag!=-1:\n",
    "                    stack.append(flag)\n",
    "                    flag=-1\n",
    "                else:\n",
    "                    stack.append(i)\n",
    "            else:\n",
    "                if stack:\n",
    "                    index=stack.pop()\n",
    "                    if i-index+1>result:\n",
    "                        result=i-index+1\n",
    "                    flag=index\n",
    "                else:\n",
    "                    flag=-1\n",
    "        return result"
   ]
  }
 ],
 "metadata": {
  "kernelspec": {
   "display_name": "Python 3",
   "language": "python",
   "name": "python3"
  },
  "language_info": {
   "codemirror_mode": {
    "name": "ipython",
    "version": 3
   },
   "file_extension": ".py",
   "mimetype": "text/x-python",
   "name": "python",
   "nbconvert_exporter": "python",
   "pygments_lexer": "ipython3",
   "version": "3.6.7"
  },
  "toc": {
   "base_numbering": 1,
   "nav_menu": {},
   "number_sections": true,
   "sideBar": true,
   "skip_h1_title": false,
   "title_cell": "Table of Contents",
   "title_sidebar": "Contents",
   "toc_cell": false,
   "toc_position": {},
   "toc_section_display": true,
   "toc_window_display": false
  }
 },
 "nbformat": 4,
 "nbformat_minor": 2
}
