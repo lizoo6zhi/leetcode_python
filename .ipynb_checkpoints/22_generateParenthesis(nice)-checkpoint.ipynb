{
 "cells": [
  {
   "cell_type": "code",
   "execution_count": 45,
   "metadata": {},
   "outputs": [],
   "source": [
    "class Solution:\n",
    "    def generateParenthesis(self, n: int):\n",
    "        '''\n",
    "        n: int\n",
    "        return: List[str]\n",
    "        '''\n",
    "        if n == 0:\n",
    "            return ['']\n",
    "        self.ret = []\n",
    "        self.generate('(', n-1, n)\n",
    "        return self.ret\n",
    "    \n",
    "    def generate(self, string, right,left):\n",
    "        if left == 0:\n",
    "            self.ret.append(string)\n",
    "        else:\n",
    "            if right >0:\n",
    "                self.generate(string+'(', right-1,left)\n",
    "            if right < left:\n",
    "                self.generate(string+')', right,left - 1)"
   ]
  },
  {
   "cell_type": "code",
   "execution_count": 47,
   "metadata": {},
   "outputs": [
    {
     "name": "stdout",
     "output_type": "stream",
     "text": [
      "['((()))', '(()())', '(())()', '()(())', '()()()']\n"
     ]
    }
   ],
   "source": [
    "s = Solution()\n",
    "print(s.generateParenthesis(3))"
   ]
  }
 ],
 "metadata": {
  "kernelspec": {
   "display_name": "Python 3",
   "language": "python",
   "name": "python3"
  },
  "language_info": {
   "codemirror_mode": {
    "name": "ipython",
    "version": 3
   },
   "file_extension": ".py",
   "mimetype": "text/x-python",
   "name": "python",
   "nbconvert_exporter": "python",
   "pygments_lexer": "ipython3",
   "version": "3.6.7"
  },
  "toc": {
   "base_numbering": 1,
   "nav_menu": {},
   "number_sections": true,
   "sideBar": true,
   "skip_h1_title": false,
   "title_cell": "Table of Contents",
   "title_sidebar": "Contents",
   "toc_cell": false,
   "toc_position": {},
   "toc_section_display": true,
   "toc_window_display": false
  }
 },
 "nbformat": 4,
 "nbformat_minor": 2
}
