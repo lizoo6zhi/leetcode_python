{
 "cells": [
  {
   "cell_type": "code",
   "execution_count": 1,
   "metadata": {},
   "outputs": [],
   "source": [
    "class Solution:\n",
    "    def trap(self, height):\n",
    "        '''\n",
    "        height: List[int]\n",
    "        retrun: int\n",
    "        '''\n",
    "        start=0\n",
    "        end = 1\n",
    "        area = 0\n",
    "        flag = False\n",
    "        while start < len(height) - 1:\n",
    "            while end < len(height) and (height[end] < height[start]):\n",
    "                end += 1\n",
    "            if end == len(height):  # 没有找到符合条件的\n",
    "                end = self.find_max(height,start)\n",
    "            \n",
    "            area += self.cal_area(height,start,end) \n",
    "            start = end\n",
    "            end += 1\n",
    "        return area\n",
    "    \n",
    "    def find_max(self,height,start):\n",
    "        max_val = 0\n",
    "        for i in range(start+1,len(height)):\n",
    "            if height[i] > max_val:\n",
    "                max_val = height[i]\n",
    "        for i in range(start+1,len(height)):\n",
    "            if height[i] == max_val:\n",
    "                return i\n",
    "                \n",
    "    def cal_area(self,li,start,end):\n",
    "        if end - start == 1:\n",
    "            return 0\n",
    "        height = li[start] if li[start] <= li[end] else li[end]\n",
    "        area = height * (end - start - 1)\n",
    "        for i in range(start+1, end, 1):\n",
    "            area -= li[i]\n",
    "        return area"
   ]
  },
  {
   "cell_type": "code",
   "execution_count": 2,
   "metadata": {},
   "outputs": [
    {
     "name": "stdout",
     "output_type": "stream",
     "text": [
      "6\n"
     ]
    }
   ],
   "source": [
    "s = Solution()\n",
    "print(s.trap([0,1,0,2,1,0,1,3,2,1,2,1]))"
   ]
  }
 ],
 "metadata": {
  "kernelspec": {
   "display_name": "Python 3",
   "language": "python",
   "name": "python3"
  },
  "language_info": {
   "codemirror_mode": {
    "name": "ipython",
    "version": 3
   },
   "file_extension": ".py",
   "mimetype": "text/x-python",
   "name": "python",
   "nbconvert_exporter": "python",
   "pygments_lexer": "ipython3",
   "version": "3.6.7"
  },
  "toc": {
   "base_numbering": 1,
   "nav_menu": {},
   "number_sections": true,
   "sideBar": true,
   "skip_h1_title": false,
   "title_cell": "Table of Contents",
   "title_sidebar": "Contents",
   "toc_cell": false,
   "toc_position": {},
   "toc_section_display": true,
   "toc_window_display": false
  }
 },
 "nbformat": 4,
 "nbformat_minor": 2
}
