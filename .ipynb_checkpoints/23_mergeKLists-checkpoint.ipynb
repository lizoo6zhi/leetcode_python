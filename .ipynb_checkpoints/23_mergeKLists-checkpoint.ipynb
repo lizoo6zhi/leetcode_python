{
 "cells": [
  {
   "cell_type": "code",
   "execution_count": null,
   "metadata": {},
   "outputs": [],
   "source": [
    "# class ListNode:\n",
    "#     def __init__(self, x):\n",
    "#         self.val = x\n",
    "#         self.next = None\n",
    "\n",
    "class Solution:\n",
    "    def mergeKLists(self, lists: List[ListNode]) -> ListNode:\n",
    "        '''\n",
    "        lists: List[ListNode\n",
    "        return: ListNode\n",
    "        '''\n",
    "        numList = []\n",
    "        for element in lists:\n",
    "            temp = element\n",
    "            while temp:\n",
    "                numList.append(temp.val)\n",
    "                temp = temp.next\n",
    "        numList.sort()\n",
    "        \n",
    "        result = temp = ListNode(0)\n",
    "        for i in numList:\n",
    "            temp.next = ListNode(i)\n",
    "            temp = temp.next\n",
    "        return result.next"
   ]
  }
 ],
 "metadata": {
  "kernelspec": {
   "display_name": "Python 3",
   "language": "python",
   "name": "python3"
  },
  "language_info": {
   "codemirror_mode": {
    "name": "ipython",
    "version": 3
   },
   "file_extension": ".py",
   "mimetype": "text/x-python",
   "name": "python",
   "nbconvert_exporter": "python",
   "pygments_lexer": "ipython3",
   "version": "3.6.7"
  },
  "toc": {
   "base_numbering": 1,
   "nav_menu": {},
   "number_sections": true,
   "sideBar": true,
   "skip_h1_title": false,
   "title_cell": "Table of Contents",
   "title_sidebar": "Contents",
   "toc_cell": false,
   "toc_position": {},
   "toc_section_display": true,
   "toc_window_display": false
  }
 },
 "nbformat": 4,
 "nbformat_minor": 2
}
