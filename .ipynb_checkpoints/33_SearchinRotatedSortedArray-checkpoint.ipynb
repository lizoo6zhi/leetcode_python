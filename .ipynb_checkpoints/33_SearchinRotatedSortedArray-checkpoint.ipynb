{
 "cells": [
  {
   "cell_type": "code",
   "execution_count": 3,
   "metadata": {},
   "outputs": [],
   "source": [
    "class Solution:\n",
    "    def search(self, nums, target: int) -> int:\n",
    "        '''\n",
    "        nums: List[int]\n",
    "        target: int\n",
    "        return: int\n",
    "        '''\n",
    "        left = 0\n",
    "        right = len(nums) - 1\n",
    "        \n",
    "        while left <= right:\n",
    "            mid = (right + left) // 2\n",
    "            print(mid)\n",
    "            if nums[mid] == target:\n",
    "                return mid\n",
    "            if nums[mid] >= nums[left]:\n",
    "                if target >= nums[left] and target < nums[mid]:\n",
    "                    right = mid - 1\n",
    "                else:\n",
    "                    left = mid + 1\n",
    "            if nums[mid] < nums[right]:\n",
    "                if target > nums[mid] and target <= nums[right]: \n",
    "                    left = mid + 1\n",
    "                else:\n",
    "                    right = mid - 1\n",
    "        return -1"
   ]
  }
 ],
 "metadata": {
  "kernelspec": {
   "display_name": "Python 3",
   "language": "python",
   "name": "python3"
  },
  "language_info": {
   "codemirror_mode": {
    "name": "ipython",
    "version": 3
   },
   "file_extension": ".py",
   "mimetype": "text/x-python",
   "name": "python",
   "nbconvert_exporter": "python",
   "pygments_lexer": "ipython3",
   "version": "3.6.7"
  },
  "toc": {
   "base_numbering": 1,
   "nav_menu": {},
   "number_sections": true,
   "sideBar": true,
   "skip_h1_title": false,
   "title_cell": "Table of Contents",
   "title_sidebar": "Contents",
   "toc_cell": false,
   "toc_position": {},
   "toc_section_display": true,
   "toc_window_display": false
  }
 },
 "nbformat": 4,
 "nbformat_minor": 2
}
