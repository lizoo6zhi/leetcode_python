{
 "cells": [
  {
   "cell_type": "markdown",
   "metadata": {},
   "source": [
    "Note:\n",
    "- The length of both num1 and num2 is < 110.\n",
    "- Both num1 and num2 contain only digits 0-9.\n",
    "- Both num1 and num2 do not contain any leading zero, except the number 0 itself.\n",
    "- You must not use any built-in BigInteger library or convert the inputs to integer directly."
   ]
  },
  {
   "cell_type": "code",
   "execution_count": 1,
   "metadata": {},
   "outputs": [],
   "source": [
    "class Solution:\n",
    "    def multiply(self, num1: str, num2: str) -> str:\n",
    "        '''\n",
    "         num1: str\n",
    "         num2: str\n",
    "         retrun: str\n",
    "        '''\n",
    "        n1=0\n",
    "        i=0\n",
    "        for x in num1[::-1]:\n",
    "            n1=n1+(ord(x)-ord('0'))*(10**i)\n",
    "            i+=1\n",
    "        r=0\n",
    "        i=0\n",
    "        for y in num2[::-1]:\n",
    "            r=r+n1*((ord(y)-ord('0'))*10**i)\n",
    "            i+=1\n",
    "        return str(r)"
   ]
  },
  {
   "cell_type": "code",
   "execution_count": 2,
   "metadata": {},
   "outputs": [
    {
     "name": "stdout",
     "output_type": "stream",
     "text": [
      "6\n"
     ]
    }
   ],
   "source": [
    "s = Solution()\n",
    "print (s.multiply(\"2\",\"3\"))"
   ]
  }
 ],
 "metadata": {
  "kernelspec": {
   "display_name": "Python 3",
   "language": "python",
   "name": "python3"
  },
  "language_info": {
   "codemirror_mode": {
    "name": "ipython",
    "version": 3
   },
   "file_extension": ".py",
   "mimetype": "text/x-python",
   "name": "python",
   "nbconvert_exporter": "python",
   "pygments_lexer": "ipython3",
   "version": "3.6.7"
  },
  "toc": {
   "base_numbering": 1,
   "nav_menu": {},
   "number_sections": true,
   "sideBar": true,
   "skip_h1_title": false,
   "title_cell": "Table of Contents",
   "title_sidebar": "Contents",
   "toc_cell": false,
   "toc_position": {},
   "toc_section_display": true,
   "toc_window_display": false
  }
 },
 "nbformat": 4,
 "nbformat_minor": 2
}
