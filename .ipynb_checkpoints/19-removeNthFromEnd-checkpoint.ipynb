{
 "cells": [
  {
   "cell_type": "code",
   "execution_count": 1,
   "metadata": {},
   "outputs": [],
   "source": [
    "# Definition for singly-linked list.\n",
    "# class ListNode:\n",
    "#     def __init__(self, x):\n",
    "#         self.val = x\n",
    "#         self.next = None\n",
    "\n",
    "class Solution:\n",
    "    def removeNthFromEnd(self, head, n: int):\n",
    "        '''\n",
    "        head: ListNode\n",
    "        n: int\n",
    "        return: ListNode\n",
    "        '''\n",
    "        temp = head\n",
    "        llen = 0\n",
    "        while temp:\n",
    "            llen += 1\n",
    "            temp = temp.next\n",
    "        delIndex = llen - n\n",
    "        \n",
    "        i = 0 \n",
    "        temp = head\n",
    "        while temp:\n",
    "            if delIndex == 0:\n",
    "                head = temp.next\n",
    "                del temp\n",
    "                return head\n",
    "            if i == delIndex - 1:\n",
    "                delnode = temp.next\n",
    "                temp.next = delnode.next\n",
    "                del delnode\n",
    "                return head\n",
    "            temp = temp.next\n",
    "            i += 1"
   ]
  }
 ],
 "metadata": {
  "kernelspec": {
   "display_name": "Python 3",
   "language": "python",
   "name": "python3"
  },
  "language_info": {
   "codemirror_mode": {
    "name": "ipython",
    "version": 3
   },
   "file_extension": ".py",
   "mimetype": "text/x-python",
   "name": "python",
   "nbconvert_exporter": "python",
   "pygments_lexer": "ipython3",
   "version": "3.6.7"
  },
  "toc": {
   "base_numbering": 1,
   "nav_menu": {},
   "number_sections": true,
   "sideBar": true,
   "skip_h1_title": false,
   "title_cell": "Table of Contents",
   "title_sidebar": "Contents",
   "toc_cell": false,
   "toc_position": {},
   "toc_section_display": true,
   "toc_window_display": false
  }
 },
 "nbformat": 4,
 "nbformat_minor": 2
}
