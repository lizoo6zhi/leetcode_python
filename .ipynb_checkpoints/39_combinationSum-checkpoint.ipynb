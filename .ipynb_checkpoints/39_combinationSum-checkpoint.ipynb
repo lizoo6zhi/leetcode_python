{
 "cells": [
  {
   "cell_type": "code",
   "execution_count": null,
   "metadata": {},
   "outputs": [],
   "source": [
    "class Solution:\n",
    "    def combinationSum(self, candidates: List[int], target: int) -> List[List[int]]:\n",
    "        '''\n",
    "        candidates: List[int]\n",
    "        target: int\n",
    "        List[List[int]]\n",
    "        '''\n",
    "        self.resList = []\n",
    "        candidates = sorted(candidates)\n",
    "        self.dfs(candidates,[],target,0)\n",
    "        return self.resList\n",
    "\n",
    "    def dfs(self,candidates,sublist,target,last):\n",
    "        if target == 0:\n",
    "            self.resList.append(sublist[:])\n",
    "        if target < candidates[0]:\n",
    "            return\n",
    "        for n in candidates:\n",
    "            if n >target:\n",
    "                return\n",
    "            if n<last:\n",
    "                continue\n",
    "            sublist.append(n)\n",
    "            self.dfs(candidates,sublist,target-n,n)\n",
    "            sublist.pop()"
   ]
  }
 ],
 "metadata": {
  "kernelspec": {
   "display_name": "Python 3",
   "language": "python",
   "name": "python3"
  },
  "language_info": {
   "codemirror_mode": {
    "name": "ipython",
    "version": 3
   },
   "file_extension": ".py",
   "mimetype": "text/x-python",
   "name": "python",
   "nbconvert_exporter": "python",
   "pygments_lexer": "ipython3",
   "version": "3.6.7"
  },
  "toc": {
   "base_numbering": 1,
   "nav_menu": {},
   "number_sections": true,
   "sideBar": true,
   "skip_h1_title": false,
   "title_cell": "Table of Contents",
   "title_sidebar": "Contents",
   "toc_cell": false,
   "toc_position": {},
   "toc_section_display": true,
   "toc_window_display": false
  }
 },
 "nbformat": 4,
 "nbformat_minor": 2
}
