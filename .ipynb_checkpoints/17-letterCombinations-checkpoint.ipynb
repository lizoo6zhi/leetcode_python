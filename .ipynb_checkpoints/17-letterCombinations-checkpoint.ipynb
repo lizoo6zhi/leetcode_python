{
 "cells": [
  {
   "cell_type": "code",
   "execution_count": 38,
   "metadata": {},
   "outputs": [],
   "source": [
    "class Solution:\n",
    "    def letterCombinations(self, digits: str):\n",
    "        '''\n",
    "        digits: str\n",
    "        return: List[str]\n",
    "        '''\n",
    "        def structChar(e1,e2):\n",
    "            if len(e1) == 0:\n",
    "                return e2\n",
    "            \n",
    "            group = []\n",
    "            for ch1 in e1:\n",
    "                for ch2 in e2:\n",
    "                    group.append(ch1+ch2)\n",
    "            return group\n",
    "\n",
    "        phoneStr = [[''],\n",
    "                    [''],\n",
    "                    ['a','b','c'],\n",
    "                    ['d','e','f'],\n",
    "                    ['g','h','i'],\n",
    "                    ['j','k','l'],\n",
    "                    ['m','n','o'],\n",
    "                    ['p','q','r','s'],\n",
    "                    ['t','u','v'],\n",
    "                    ['w','x','y','z']]\n",
    "        \n",
    "        result = []\n",
    "        for ch in digits:\n",
    "            result = structChar(result,phoneStr[int(ch)])\n",
    "        return result "
   ]
  }
 ],
 "metadata": {
  "kernelspec": {
   "display_name": "Python 3",
   "language": "python",
   "name": "python3"
  },
  "language_info": {
   "codemirror_mode": {
    "name": "ipython",
    "version": 3
   },
   "file_extension": ".py",
   "mimetype": "text/x-python",
   "name": "python",
   "nbconvert_exporter": "python",
   "pygments_lexer": "ipython3",
   "version": "3.6.7"
  },
  "toc": {
   "base_numbering": 1,
   "nav_menu": {},
   "number_sections": true,
   "sideBar": true,
   "skip_h1_title": false,
   "title_cell": "Table of Contents",
   "title_sidebar": "Contents",
   "toc_cell": false,
   "toc_position": {},
   "toc_section_display": true,
   "toc_window_display": false
  }
 },
 "nbformat": 4,
 "nbformat_minor": 2
}
