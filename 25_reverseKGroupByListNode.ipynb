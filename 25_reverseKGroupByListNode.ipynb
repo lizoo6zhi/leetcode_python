{
 "cells": [
  {
   "cell_type": "code",
   "execution_count": null,
   "metadata": {},
   "outputs": [],
   "source": [
    "# Definition for singly-linked list.\n",
    "# class ListNode:\n",
    "#     def __init__(self, x):\n",
    "#         self.val = x\n",
    "#         self.next = None\n",
    "\n",
    "class Solution:\n",
    "    def reverseKGroup(self, head: ListNode, k: int) -> ListNode:\n",
    "        '''\n",
    "        head: ListNode\n",
    "        k: int\n",
    "        retrun: ListNode\n",
    "        '''\n",
    "        temp = head\n",
    "        listLen = 0\n",
    "        while temp:\n",
    "            listLen += 1\n",
    "            temp = temp.next\n",
    "            \n",
    "        if (k <= 1) or (k > listLen):\n",
    "            return head\n",
    "        \n",
    "        stack = []\n",
    "        pre = newNode = ListNode(0)\n",
    "        \n",
    "        div = listLen // k\n",
    "        mode = listLen % k\n",
    "        \n",
    "        temp = head \n",
    "        for i in range(div):\n",
    "            for i in range(k):\n",
    "                stack.append(temp.val)\n",
    "                temp = temp.next\n",
    "            \n",
    "            for i in range(k):\n",
    "                pre.next = ListNode(stack.pop())\n",
    "                pre = pre.next\n",
    "                \n",
    "        for j in range(mode):\n",
    "            pre.next = ListNode(temp.val)\n",
    "            temp = temp.next\n",
    "            pre = pre.next\n",
    "            \n",
    "        return newNode.next"
   ]
  }
 ],
 "metadata": {
  "kernelspec": {
   "display_name": "Python 3",
   "language": "python",
   "name": "python3"
  },
  "language_info": {
   "codemirror_mode": {
    "name": "ipython",
    "version": 3
   },
   "file_extension": ".py",
   "mimetype": "text/x-python",
   "name": "python",
   "nbconvert_exporter": "python",
   "pygments_lexer": "ipython3",
   "version": "3.6.7"
  },
  "toc": {
   "base_numbering": 1,
   "nav_menu": {},
   "number_sections": true,
   "sideBar": true,
   "skip_h1_title": false,
   "title_cell": "Table of Contents",
   "title_sidebar": "Contents",
   "toc_cell": false,
   "toc_position": {},
   "toc_section_display": true,
   "toc_window_display": false
  }
 },
 "nbformat": 4,
 "nbformat_minor": 2
}
