{
 "cells": [
  {
   "cell_type": "code",
   "execution_count": 70,
   "metadata": {},
   "outputs": [],
   "source": [
    "# 注意要求时间复杂度为log(m+n)\n",
    "class Solution:\n",
    "    def findMedianSortedArrays(self, nums1, nums2) -> float:\n",
    "        def findkmin(l1,l2,k):\n",
    "            if not l1:\n",
    "                return l2[k]\n",
    "            if not l2:\n",
    "                return l1[k]\n",
    "\n",
    "            la = len(l1) // 2\n",
    "            lb = len(l2) // 2\n",
    "            ma = l1[la]\n",
    "            mb = l2[lb]\n",
    "\n",
    "            if la + lb >= k:\n",
    "                if ma > mb:\n",
    "                    return findkmin(l1[:la], l2,k)\n",
    "                else:\n",
    "                    return findkmin(l1,l2[:lb],k)\n",
    "            else:\n",
    "                if ma > mb:\n",
    "                    return findkmin(l1, l2[lb+1:], k - lb -1 )\n",
    "                else:\n",
    "                    return findkmin(l1[la+1:], l2, k-la-1)\n",
    "\n",
    "        l1,l2 = len(nums1),len(nums2)\n",
    "        if (l1+l2) %2 == 0:\n",
    "            return (findkmin(nums1,nums2,(l1+l2)//2 - 1)+ findkmin(nums1,nums2,(l1+l2)//2)) / 2\n",
    "        else:\n",
    "            return findkmin(nums1,nums2,(l1+l2)//2)"
   ]
  }
 ],
 "metadata": {
  "kernelspec": {
   "display_name": "Python 3",
   "language": "python",
   "name": "python3"
  },
  "language_info": {
   "codemirror_mode": {
    "name": "ipython",
    "version": 3
   },
   "file_extension": ".py",
   "mimetype": "text/x-python",
   "name": "python",
   "nbconvert_exporter": "python",
   "pygments_lexer": "ipython3",
   "version": "3.6.7"
  },
  "toc": {
   "base_numbering": 1,
   "nav_menu": {},
   "number_sections": true,
   "sideBar": true,
   "skip_h1_title": false,
   "title_cell": "Table of Contents",
   "title_sidebar": "Contents",
   "toc_cell": false,
   "toc_position": {},
   "toc_section_display": true,
   "toc_window_display": false
  }
 },
 "nbformat": 4,
 "nbformat_minor": 2
}
