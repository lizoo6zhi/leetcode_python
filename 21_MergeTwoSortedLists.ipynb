{
 "cells": [
  {
   "cell_type": "code",
   "execution_count": 1,
   "metadata": {},
   "outputs": [],
   "source": [
    "# Definition for singly-linked list.\n",
    "# class ListNode:\n",
    "#     def __init__(self, x):\n",
    "#         self.val = x\n",
    "#         self.next = None\n",
    "\n",
    "class Solution:\n",
    "    def mergeTwoLists(self, l1, l2):\n",
    "        '''\n",
    "        l1: ListNode\n",
    "        l2: ListNode\n",
    "        retrun ListNode\n",
    "        '''\n",
    "        temp = newlist = ListNode(0)\n",
    "        temp1,temp2 = l1,l2\n",
    "        \n",
    "        while temp1 and temp2:\n",
    "            if temp1.val <= temp2.val:\n",
    "                temp.next = temp1\n",
    "                temp1 = temp1.next\n",
    "            else:\n",
    "                temp.next = temp2\n",
    "                temp2 = temp2.next\n",
    "                \n",
    "            temp = temp.next\n",
    "            \n",
    "        if temp1:\n",
    "            temp.next = temp1\n",
    "        if temp2:\n",
    "            temp.next = temp2\n",
    "        \n",
    "        return newlist.next"
   ]
  }
 ],
 "metadata": {
  "kernelspec": {
   "display_name": "Python 3",
   "language": "python",
   "name": "python3"
  },
  "language_info": {
   "codemirror_mode": {
    "name": "ipython",
    "version": 3
   },
   "file_extension": ".py",
   "mimetype": "text/x-python",
   "name": "python",
   "nbconvert_exporter": "python",
   "pygments_lexer": "ipython3",
   "version": "3.6.7"
  },
  "toc": {
   "base_numbering": 1,
   "nav_menu": {},
   "number_sections": true,
   "sideBar": true,
   "skip_h1_title": false,
   "title_cell": "Table of Contents",
   "title_sidebar": "Contents",
   "toc_cell": false,
   "toc_position": {},
   "toc_section_display": true,
   "toc_window_display": false
  }
 },
 "nbformat": 4,
 "nbformat_minor": 2
}
