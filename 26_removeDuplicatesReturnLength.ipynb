{
 "cells": [
  {
   "cell_type": "code",
   "execution_count": 8,
   "metadata": {},
   "outputs": [],
   "source": [
    "class Solution:\n",
    "    '''\n",
    "    在不使用额外内存的情况下，删除排序列表中的重复元素(相当于引用)，并返回新列表长度\n",
    "    '''\n",
    "    def removeDuplicates(self, nums) -> int:\n",
    "        '''\n",
    "        nums: List[int])\n",
    "        return: int\n",
    "        '''\n",
    "        cur = 0\n",
    "        for i in range(1,len(nums)):\n",
    "            if nums[cur] != nums[i]:\n",
    "                cur += 1\n",
    "                nums[cur] = nums[i]\n",
    "            \n",
    "        return cur + 1"
   ]
  }
 ],
 "metadata": {
  "kernelspec": {
   "display_name": "Python 3",
   "language": "python",
   "name": "python3"
  },
  "language_info": {
   "codemirror_mode": {
    "name": "ipython",
    "version": 3
   },
   "file_extension": ".py",
   "mimetype": "text/x-python",
   "name": "python",
   "nbconvert_exporter": "python",
   "pygments_lexer": "ipython3",
   "version": "3.6.7"
  },
  "toc": {
   "base_numbering": 1,
   "nav_menu": {},
   "number_sections": true,
   "sideBar": true,
   "skip_h1_title": false,
   "title_cell": "Table of Contents",
   "title_sidebar": "Contents",
   "toc_cell": false,
   "toc_position": {},
   "toc_section_display": true,
   "toc_window_display": false
  }
 },
 "nbformat": 4,
 "nbformat_minor": 2
}
